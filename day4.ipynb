{
  "nbformat": 4,
  "nbformat_minor": 0,
  "metadata": {
    "colab": {
      "name": "day4.ipynb",
      "provenance": [],
      "authorship_tag": "ABX9TyMbKFJDgE7UYCXtqVoPNW1Z",
      "include_colab_link": true
    },
    "kernelspec": {
      "name": "python3",
      "display_name": "Python 3"
    },
    "language_info": {
      "name": "python"
    }
  },
  "cells": [
    {
      "cell_type": "markdown",
      "metadata": {
        "id": "view-in-github",
        "colab_type": "text"
      },
      "source": [
        "<a href=\"https://colab.research.google.com/github/rabbaninew/python30-days-challenges/blob/main/day4.ipynb\" target=\"_parent\"><img src=\"https://colab.research.google.com/assets/colab-badge.svg\" alt=\"Open In Colab\"/></a>"
      ]
    },
    {
      "cell_type": "code",
      "metadata": {
        "colab": {
          "base_uri": "https://localhost:8080/"
        },
        "id": "QeapPMT-946G",
        "outputId": "8523e8b9-7254-423b-800c-54cd54bbb858"
      },
      "source": [
        "import math\n",
        "import os\n",
        "import random\n",
        "import re\n",
        "import sys\n",
        "\n",
        "\n",
        "\n",
        "if __name__ == '__main__':\n",
        "    N = int(input())\n",
        "    if (N%2!=0):\n",
        "      print(\"weird\")\n",
        "    else:  \n",
        "       if (N>=2 and N<=5):\n",
        "         print(\"Not Weird\")\n",
        "        \n",
        "       elif (N>=6 and N<=20):\n",
        "         print(\"Weird\")\n",
        "       elif N > 20:\n",
        "        print (\"Not Weird\")\n"
      ],
      "execution_count": 20,
      "outputs": [
        {
          "output_type": "stream",
          "text": [
            "24\n",
            "Not Weird\n"
          ],
          "name": "stdout"
        }
      ]
    }
  ]
}