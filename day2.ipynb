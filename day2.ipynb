{
  "nbformat": 4,
  "nbformat_minor": 0,
  "metadata": {
    "colab": {
      "name": "day2.ipynb",
      "provenance": [],
      "authorship_tag": "ABX9TyMlrZoml4c9oHIH1mOgl7dD",
      "include_colab_link": true
    },
    "kernelspec": {
      "name": "python3",
      "display_name": "Python 3"
    },
    "language_info": {
      "name": "python"
    }
  },
  "cells": [
    {
      "cell_type": "markdown",
      "metadata": {
        "id": "view-in-github",
        "colab_type": "text"
      },
      "source": [
        "<a href=\"https://colab.research.google.com/github/rabbaninew/python30-days-challenges/blob/main/day2.ipynb\" target=\"_parent\"><img src=\"https://colab.research.google.com/assets/colab-badge.svg\" alt=\"Open In Colab\"/></a>"
      ]
    },
    {
      "cell_type": "code",
      "metadata": {
        "colab": {
          "base_uri": "https://localhost:8080/"
        },
        "id": "4_iY3qf34ViY",
        "outputId": "bf8ea4ba-e6f9-458c-a52c-34c14b73e355"
      },
      "source": [
        "import math\n",
        "import os\n",
        "import random\n",
        "import re\n",
        "import sys\n",
        "\n",
        "# Complete the solve function below.\n",
        "def solve(meal_cost, tip_percent, tax_percent):\n",
        "    tip_percent1=(meal_cost/100)*meal_cost\n",
        "    print(tip_percent1)\n",
        "\n",
        "    tax=(tax_percent/100)*meal_cost\n",
        "    print(tax)\n",
        "    total_cost=(meal_cost+tip_percent1+tax)\n",
        "    print(round(total_cost))\n",
        "\n",
        "if __name__ == '__main__':\n",
        "    meal_cost = float(input())\n",
        "\n",
        "    tip_percent = int(input())\n",
        "\n",
        "    tax_percent = int(input())\n",
        "\n",
        "    solve(meal_cost, tip_percent, tax_percent)\n"
      ],
      "execution_count": 23,
      "outputs": [
        {
          "output_type": "stream",
          "text": [
            "15.50\n",
            "15\n",
            "10\n",
            "2.4025\n",
            "1.55\n",
            "19\n"
          ],
          "name": "stdout"
        }
      ]
    }
  ]
}